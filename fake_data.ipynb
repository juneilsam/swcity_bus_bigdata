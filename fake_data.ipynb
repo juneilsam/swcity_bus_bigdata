{
  "cells": [
    {
      "cell_type": "code",
      "execution_count": null,
      "id": "ea159672",
      "metadata": {
        "id": "ea159672"
      },
      "outputs": [],
      "source": [
        "# import pyspark.sql as ps\n",
        "# import pyspark.sql.functions as F\n",
        "# import pyspark\n",
        "\n",
        "import pandas as pd\n",
        "import numpy as np\n",
        "\n",
        "from functools import reduce\n",
        "import copy\n",
        "\n",
        "import random\n",
        "from tqdm import tqdm\n",
        "import datetime"
      ]
    },
    {
      "cell_type": "code",
      "execution_count": null,
      "id": "a39656d0",
      "metadata": {
        "id": "a39656d0",
        "outputId": "bf0c3138-f9d5-488a-cf98-dfba17a83f7e"
      },
      "outputs": [
        {
          "data": {
            "text/html": [
              "\n",
              "            <div>\n",
              "                <p><b>SparkSession - hive</b></p>\n",
              "                \n",
              "        <div>\n",
              "            <p><b>SparkContext</b></p>\n",
              "\n",
              "            <p><a href=\"http://localhost:4041\">Spark UI</a></p>\n",
              "\n",
              "            <dl>\n",
              "              <dt>Version</dt>\n",
              "                <dd><code>v3.0.2</code></dd>\n",
              "              <dt>Master</dt>\n",
              "                <dd><code>spark://e4860a2fdf4a:7077</code></dd>\n",
              "              <dt>AppName</dt>\n",
              "                <dd><code>PySparkShell</code></dd>\n",
              "            </dl>\n",
              "        </div>\n",
              "        \n",
              "            </div>\n",
              "        "
            ],
            "text/plain": [
              "<pyspark.sql.session.SparkSession at 0x7f6c33f509d0>"
            ]
          },
          "execution_count": 2,
          "metadata": {},
          "output_type": "execute_result"
        }
      ],
      "source": [
        "spark"
      ]
    },
    {
      "cell_type": "code",
      "execution_count": null,
      "id": "9acb931c",
      "metadata": {
        "id": "9acb931c",
        "outputId": "fc6f1dac-5249-4c84-f8fe-98d85324fda5"
      },
      "outputs": [
        {
          "name": "stdout",
          "output_type": "stream",
          "text": [
            "+-------------------+-----------------+------+-------------------+----------------+--------------------+--------------------+-------------+----------------------+-------------------+---------------------+----------+--------+--------+---------------------+-----------------+----+-------------------+--------------------+----------------+-------+------------------------+------------------+-------------------------+------------------+------------------+-------+------+------+--------------------+--------------------+--------------------+--------------------+--------------------+--------------------+------------+----------------+------------+------------+---------+-----------+-----------+\n",
            "|        UPDATE_DATE|       DEVICE_KEY|MDT_ID|    COLLECTION_DATE|COLLECTION_STATE|                NMEA|                ADAS|ADAS_DISTANCE|ADAS_FORWARD_COLLISION|ADAS_LANE_DEPARTURE|ADAS_PERSON_DETECTION|ADAS_SPEED|ADAS_RPM|ADAS_AEB|ADAS_LAST_UPDATE_DATE|ADAS_INSTALL_DATE| DSM|DSM_DROWSINESS_CODE|DSM_LAST_UPDATE_DATE|DSM_INSTALL_DATE|BAND_HB|BAND_HB_LAST_UPDATE_DATE|          BAND_ACC|BAND_ACC_LAST_UPDATE_DATE|          LATITUDE|         LONGITUDE| HEIGHT| SPEED| ANGLE|       GNSS_NMEA_GGA|       GNSS_NMEA_RMC|       GNSS_NMEA_GSA|       GNSS_NMEA_GST|       GNSS_NMEA_VTG|       GNSS_NMEA_ZDA|      BUS_NO|     BUS_COMPANY|BUS_ROUTE_NO|BUS_ROUTE_ID|BUS_VH_ID|DOOR_JAMMED|CO2_DENSITY|\n",
            "+-------------------+-----------------+------+-------------------+----------------+--------------------+--------------------+-------------+----------------------+-------------------+---------------------+----------+--------+--------+---------------------+-----------------+----+-------------------+--------------------+----------------+-------+------------------------+------------------+-------------------------+------------------+------------------+-------+------+------+--------------------+--------------------+--------------------+--------------------+--------------------+--------------------+------------+----------------+------------+------------+---------+-----------+-----------+\n",
            "|2021-10-26 19:04:03|00-1E-06-20-52-1D|  null|2021-10-26 19:04:00|            FAIL|                null|                null|          0.0|                  null|               null|                 null|       0.0|     0.0|    null|                 null|             null|null|               null|                null|            null|   null|                    null|              null|                     null|               0.0|               0.0|    0.0|   0.0|   0.0|                null|                null|                null|                null|                null|                null|        null|            null|        null|        null|     null|          0|       50.0|\n",
            "|2021-10-26 19:04:03|00-A0-C6-00-0F-4F|   592|2021-10-26 19:04:00|         SUCCESS|$GNRMC,014547.00,...|                null|          0.0|                  null|               null|                 null|       0.0|     0.0|    null|                 null|             null|null|               null|                null|            null|      0|     2021-08-01 18:13:02| -14465;-859;-7887|      2021-08-01 18:13:02|33.489969697064616|126.49059919945441| 89.982| 0.045|   0.0|$GNGGA,014547.00,...|$GNRMC,014547.00,...|$GNGSA,A,3,02,08,...|$GNGST,014547.00,...|$GNVTG,,T,,M,0.02...|$GNZDA,014547.00,...|제주79아3099|        금남여객|       332-2|   405133202|  7983099|          0|       50.0|\n",
            "|2021-10-26 19:04:03|00-A0-C6-00-48-39|   545|2021-10-26 19:04:00|         SUCCESS|$GNRMC,014547.00,...|ST,20210913094511...|          0.0|                 FCWS2|              LDWS0|                PDWS0|      30.0|  1332.0|        |  2021-09-13 10:45:09|             null|null|               null|                null|            null|      0|     2021-05-02 17:30:15|  -14589;1358;7242|      2021-05-02 17:30:15| 33.35931718388046|126.33521803968677|371.772|52.799|237.57|$GNGGA,014547.00,...|$GNRMC,014547.00,...|$GNGSA,A,3,05,02,...|                null|$GNVTG,237.57,T,,...|$GNZDA,014547.00,...|제주79자6035|      제주시공영|      783-12|   405578312|  7996035|          0|       50.0|\n",
            "|2021-10-26 19:04:03|00-A0-C6-00-8A-FD|   759|2021-10-26 19:04:00|         SUCCESS|$GNRMC,014547.00,...|                null|          0.0|                  null|               null|                 null|       0.0|     0.0|    null|                 null|             null|null|               null|                null|            null|   null|                    null|              null|                     null|33.260374784239595|126.61758861905771| 35.728| 0.016|   0.0|$GNGGA,014547.00,...|$GNRMC,014547.00,...|$GNGSA,A,3,13,22,...|$GNGST,014547.00,...|$GNVTG,,T,,M,0.00...|$GNZDA,014547.00,...|제주79자7541|        동서교통|       624-4|   406262404|  7997541|          0|       50.0|\n",
            "|2021-10-26 19:04:03|00-A0-C6-00-B0-0F|   642|2021-10-26 19:04:00|            FAIL|                null|                null|          0.0|                  null|               null|                 null|       0.0|     0.0|    null|                 null|             null|null|               null|                null|            null|      0|     2021-08-22 21:50:01|    8498;9838;9447|      2021-08-22 21:50:01|               0.0|               0.0|    0.0|   0.0|   0.0|                null|                null|                null|                null|                null|                null|제주79아3423|        동진여객|       472-2|   405247202|  7983423|          0|       50.0|\n",
            "|2021-10-26 19:04:03|00-A0-C6-00-B9-16|   221|2021-10-26 19:04:00|         SUCCESS|$GNRMC,014547.00,...|                null|          0.0|                  null|               null|                 null|       0.0|     0.0|    null|                 null|             null|null|               null|                null|            null|      0|     2021-09-01 07:21:02|-12888;-2242;10451|      2021-09-01 07:21:02|33.493188503986914|126.53833199157702|  92.56|30.562| 50.03|$GNGGA,014547.00,...|$GNRMC,014547.00,...|$GNGSA,A,3,29,13,...|$GNGST,014547.00,...|$GNVTG,50.03,T,,M...|$GNZDA,014547.00,...|제주79아3617|        삼화여객|       282-6|   405328206|  7983617|          0|       50.0|\n",
            "|2021-10-26 19:04:03|00-A0-C6-00-CF-60|   550|2021-10-26 19:04:00|            FAIL|                null|                null|          0.0|                  null|               null|                 null|       0.0|     0.0|    null|                 null|             null|   1|               DSM1| 2021-02-27 19:11:57|            null|   null|                    null|              null|                     null|               0.0|               0.0|    0.0|   0.0|   0.0|                null|                null|                null|                null|                null|                null|제주79자6040|      제주시공영|       704-2|   405570402|  7996040|          0|       50.0|\n",
            "|2021-10-26 19:04:03|00-A0-C6-00-E6-52|    74|2021-10-26 19:04:00|            FAIL|                null|                null|          0.0|                  null|               null|                 null|       0.0|     0.0|    null|                 null|             null|null|               null|                null|            null|      0|     2021-04-15 08:45:04|  12672;3809;-9048|      2021-04-15 08:45:04|               0.0|               0.0|    0.0|   0.0|   0.0|                null|                null|                null|                null|                null|                null|제주79아3114|        제주여객|       102-3|   405410203|  7983114|          0|       50.0|\n",
            "|2021-10-26 19:04:03|00-A0-C6-01-06-92|   684|2021-10-26 19:04:00|         SUCCESS|$GNRMC,014547.00,...|                null|          0.0|                  null|               null|                 null|       0.0|     0.0|    null|                 null|             null|   1|               DSM1| 2021-05-07 11:24:34|            null|      0|     2021-09-10 15:11:17|   15928;-4454;604|      2021-09-10 15:11:17| 33.42705478615529|126.41000935496672|339.302|40.938|223.14|$GNGGA,014547.00,...|$GNRMC,014547.00,...|$GNGSA,A,3,03,07,...|$GNGST,014547.00,...|$GNVTG,223.14,T,,...|$GNZDA,014547.00,...|제주79아3564|        극동여객|       251-7|   405325107|  7983564|          0|       50.0|\n",
            "|2021-10-26 19:04:03|00-A0-C6-01-6E-5E|   311|2021-10-26 19:04:00|         SUCCESS|$GNRMC,014547.00,...|                null|          0.0|                  null|               null|                 null|       0.0|     0.0|    null|                 null|             null|   2|               DSM2| 2021-07-01 08:10:33|            null|      0|     2021-09-10 17:25:23| 3185;-10848;12253|      2021-09-10 17:25:23|33.248858959838195|126.21975203095536| 17.986|24.112| 34.07|$GNGGA,014547.00,...|$GNRMC,014547.00,...|$GNGSA,A,3,10,08,...|$GNGST,014547.00,...|$GNVTG,34.07,T,,M...|$GNZDA,014547.00,...|제주79자6608|      서귀포공영|       761-4|   406576104|  7996608|          0|       50.0|\n",
            "|2021-10-26 19:04:03|00-A0-C6-01-7D-02|  null|2021-10-26 19:04:00|            FAIL|                null|                null|          0.0|                  null|               null|                 null|       0.0|     0.0|    null|                 null|             null|null|               null|                null|            null|     84|     2020-09-30 12:47:51|  3786;-9919;13104|      2020-09-30 12:47:51|               0.0|               0.0|    0.0|   0.0|   0.0|                null|                null|                null|                null|                null|                null|제주79아3944|우도사랑협동조합|          44|        null|     null|          0|       50.0|\n",
            "|2021-10-26 19:04:03|00-A0-C6-01-BA-85|  null|2021-10-26 19:04:00|            FAIL|                null|                null|          0.0|                  null|               null|                 null|       0.0|     0.0|    null|                 null|             null|null|               null|                null|            null|   null|                    null|              null|                     null|               0.0|               0.0|    0.0|   0.0|   0.0|                null|                null|                null|                null|                null|                null|제주79아3941|우도사랑협동조합|          41|        null|     null|          0|       50.0|\n",
            "|2021-10-26 19:04:03|00-A0-C6-01-C9-42|   155|2021-10-26 19:04:00|         SUCCESS|$GNRMC,014547.00,...|                null|          0.0|                  null|               null|                 null|       0.0|     0.0|    null|                 null|             null|   3|               DSM3| 2021-08-26 23:00:30|            null|      0|     2021-09-10 23:07:17|    16207;-339;409|      2021-09-10 23:07:17|33.279628339274375|126.29399940754074|111.144|21.393| 80.54|$GNGGA,014547.00,...|$GNRMC,014547.00,...|$GNGSA,A,3,01,04,...|$GNGST,014547.00,...|$GNVTG,80.54,T,,M...|$GNZDA,014547.00,...|제주79아3500|        극동여객|       252-4|   405325204|  7983500|          0|       50.0|\n",
            "|2021-10-26 19:04:03|00-A0-C6-01-D6-1D|    22|2021-10-26 19:04:00|         SUCCESS|$GNRMC,014547.00,...|                null|          0.0|                  null|               null|                 null|       0.0|     0.0|    null|                 null|             null|null|               null|                null|            null|    116|     2021-08-05 07:12:01|   16682;-77;-7191|      2021-08-05 07:12:01| 33.25182414729353|126.56018159372256| 67.447|10.626| 42.83|$GNGGA,014547.00,...|$GNRMC,014547.00,...|$GNGSA,A,3,20,29,...|$GNGST,014547.00,...|$GNVTG,42.83,T,,M...|$GNZDA,014547.00,...|제주79아3025|        금남여객|       651-6|   406265106|  7983025|          0|       50.0|\n",
            "|2021-10-26 19:04:03|00-A0-C6-02-19-55|   613|2021-10-26 19:04:00|            FAIL|                null|                null|          0.0|                  null|               null|                 null|       0.0|     0.0|    null|                 null|             null|null|               null|                null|            null|      0|     2021-07-28 14:37:53|  12729;7769;-8568|      2021-07-28 14:37:53|               0.0|               0.0|    0.0|   0.0|   0.0|                null|                null|                null|                null|                null|                null|제주79아3220|        금남여객|       655-1|   406265501|  7983220|          0|       50.0|\n",
            "|2021-10-26 19:04:03|00-A0-C6-02-D8-6D|   466|2021-10-26 19:04:00|            FAIL|                null|                null|          0.0|                  null|               null|                 null|       0.0|     0.0|    null|                 null|             null|null|               null|                null|            null|      0|     2021-06-25 09:52:41|   639;-8456;13266|      2021-06-25 09:52:41|               0.0|               0.0|    0.0|   0.0|   0.0|                null|                null|                null|                null|                null|                null|제주79아3653|        삼화여객|       462-1|   405246201|  7983653|          0|       50.0|\n",
            "|2021-10-26 19:04:03|00-A0-C6-02-D9-06|   738|2021-10-26 19:04:00|            FAIL|                null|                null|          0.0|                  null|               null|                 null|       0.0|     0.0|    null|                 null|             null|null|               null|                null|            null|      0|     2021-08-03 13:46:09| -7743;6518;-13645|      2021-08-03 13:46:09|               0.0|               0.0|    0.0|   0.0|   0.0|                null|                null|                null|                null|                null|                null|제주79아3809|        삼화여객|       444-1|   405244401|  7983809|          0|       50.0|\n",
            "|2021-10-26 19:04:03|00-A0-C6-03-23-8B|   698|2021-10-26 19:04:00|         SUCCESS|$GNRMC,014547.00,...|                null|          0.0|                  null|               null|                 null|       0.0|     0.0|    null|                 null|             null|null|               null|                null|            null|      0|     2021-08-19 22:05:54|   15353;5412;-113|      2021-08-19 22:05:54| 33.51321141344051|126.53153204441409| 27.999| 0.024|   0.0|$GNGGA,014547.00,...|$GNRMC,014547.00,...|$GNGSA,A,3,10,13,...|$GNGST,014547.00,...|$GNVTG,,T,,M,0.01...|$GNZDA,014547.00,...|제주79아3578|        극동여객|       412-1|   405241201|  7983578|          0|       50.0|\n",
            "|2021-10-26 19:04:03|00-A0-C6-03-A2-76|   269|2021-10-26 19:04:00|            FAIL|                null|                null|          0.0|                  null|               null|                 null|       0.0|     0.0|    null|                 null|             null|   1|               DSM1| 2021-08-06 21:53:29|            null|      0|     2021-09-05 16:59:42|-3347;-7436;-14373|      2021-09-05 16:59:42|               0.0|               0.0|    0.0|   0.0|   0.0|                null|                null|                null|                null|                null|                null|제주79아3717|        삼영교통|       600-1|   405660001|  7983717|          0|       50.0|\n",
            "|2021-10-26 19:04:03|00-A0-C6-04-3C-FC|   339|2021-10-26 19:04:00|            FAIL|                null|                null|          0.0|                  null|               null|                 null|       0.0|     0.0|    null|                 null|             null|null|               null|                null|            null|     80|     2021-06-07 06:27:27| -931;-8806;-11395|      2021-06-07 06:27:27|               0.0|               0.0|    0.0|   0.0|   0.0|                null|                null|                null|                null|                null|                null|제주79자7013|        삼영교통|       341-1|   405134101|  7997013|          0|       50.0|\n",
            "+-------------------+-----------------+------+-------------------+----------------+--------------------+--------------------+-------------+----------------------+-------------------+---------------------+----------+--------+--------+---------------------+-----------------+----+-------------------+--------------------+----------------+-------+------------------------+------------------+-------------------------+------------------+------------------+-------+------+------+--------------------+--------------------+--------------------+--------------------+--------------------+--------------------+------------+----------------+------------+------------+---------+-----------+-----------+\n",
            "only showing top 20 rows\n",
            "\n"
          ]
        }
      ],
      "source": [
        "df=spark.read.option(\"header\", \"true\").option(\"inferSchema\", \"true\").option(\"sep\", ',').option(\"quote\", '\"').option(\"wholeFile\", \"true\").option(\"multiline\", \"true\").csv('realtime_snapshot.csv')\n",
        "df.show()"
      ]
    },
    {
      "cell_type": "code",
      "execution_count": null,
      "id": "b4667001",
      "metadata": {
        "id": "b4667001"
      },
      "outputs": [],
      "source": [
        "df.printSchema()"
      ]
    },
    {
      "cell_type": "code",
      "execution_count": null,
      "id": "ba764652",
      "metadata": {
        "id": "ba764652"
      },
      "outputs": [],
      "source": [
        "df = df.filter(df.COLLECTION_STATE.contains('SUCCESS'))"
      ]
    },
    {
      "cell_type": "code",
      "execution_count": null,
      "id": "ebda2875",
      "metadata": {
        "scrolled": true,
        "id": "ebda2875"
      },
      "outputs": [],
      "source": [
        "# import pyspark.sql.functions as F\n",
        "# import pyspark\n",
        "\n",
        "# import pandas as pd\n",
        "# import numpy as np\n",
        "\n",
        "# from functools import reduce\n",
        "\n",
        "# import datetime\n",
        "\n",
        "# pandas로 파일을 읽어옴\n",
        "aa=pd.read_excel(\"SW_테이블.xlsx\", sheet_name=\"테이블\", header=None)\n",
        "ak1 = aa[aa[2].isnull() == False][2]\n",
        "ak = ak1.to_list()\n",
        "ok = np.where(ak1 == '컬럼 ID')[0]\n",
        "ok = ok.tolist()\n",
        "\n",
        "for m, c in enumerate(['CO2__DEN', 'COLLECT_DATE', 'DEVICE_K', 'HR_REAL', 'KPH', 'VH_ID']):\n",
        "    for f in np.where(ak1 == c)[0].tolist():\n",
        "        change = ['CO2_DENSITY', 'COLLECTION_DATE', 'DEVICE_KEY', 'BAND_HB', 'SPEED', 'BUS_VH_ID']    \n",
        "        ak[f] = change[m]\n",
        "\n",
        "# 테이블 별 컬럼\n",
        "table_dict = {}\n",
        "try:\n",
        "    for i in range(len(ok)):\n",
        "        values = ak[ok[i]+1:ok[i+1]-2]\n",
        "        try:\n",
        "            values.remove('LINK_ID')\n",
        "        except:\n",
        "            continue\n",
        "        table_dict[ak[ok[i]-2]] = values\n",
        "except:\n",
        "    pass\n",
        "\n",
        "# 고유 value만 추출\n",
        "table_list = []\n",
        "for i in table_dict.values():\n",
        "    for j in i:\n",
        "        table_list.append(j)\n",
        "table_set = [i for i in set(table_list)]\n",
        "\n",
        "now_list = []\n",
        "for i in ['TRACK_SPEED', 'TRACK_RAPID_ACC', 'TRACK_RAPID_DEC', 'TRACK_NOSTOP', 'TRACK_NEGLECT', 'TRACK_DROWSY', 'MD_SPEED', 'MD_RAPID_ACC', 'MD_RAPID_DEC', 'MD_NOSTOP', 'MD_NEGLECT', 'MD_DROWSY', 'MD_SB_INFO', 'MD_DOOR_INFO', 'MD_CO2_INFO']:\n",
        "    for k in table_dict[i]:\n",
        "        now_list.append(k)\n",
        "now_list = [j for j in set(now_list)]\n",
        "\n",
        "# 원하는 테이블명 입력\n",
        "def table_sort(table_name):\n",
        "    rddFromFile = spark.sparkContext.textFile(\"\")\n",
        "    df1 = spark.read.option(\"header\",\"true\").format(\"json\").json(rddFromFile)\n",
        "    df1 = df1.filter(df1.COLLECTION_STATE.contains('SUCCESS'))\n",
        "    values = table_dict[table_name]\n",
        "    for v in values:\n",
        "        if v is 'WORK_DATE':\n",
        "            df1 = df1.withColumn('WORK_DATE', F.lit(pd.to_datetime(str(datetime.datetime.now())[:19])))\n",
        "        elif v not in df.columns:\n",
        "            df1 = df1.withColumn(v,  F.lit(''))\n",
        "# 없는 컬럼은 추가하고, 'SUCCESS'값만 모은 spark dataframe    \n",
        "    return df1.select(values)\n",
        "\n",
        "\n",
        "# table_dict : 딕셔너리 형태의 키-밸류\n",
        "# table_set : 총 필요한 컬럼들\n",
        "# now_list : 지금 해야하는 컬럼 칭구들"
      ]
    },
    {
      "cell_type": "code",
      "execution_count": null,
      "id": "03182a23",
      "metadata": {
        "id": "03182a23"
      },
      "outputs": [],
      "source": [
        "df = pd.read_csv('suwon.csv', encoding='UTF-8')"
      ]
    },
    {
      "cell_type": "code",
      "execution_count": null,
      "id": "e560d725",
      "metadata": {
        "id": "e560d725"
      },
      "outputs": [],
      "source": [
        "df.info()"
      ]
    },
    {
      "cell_type": "code",
      "execution_count": null,
      "id": "94d422b0",
      "metadata": {
        "id": "94d422b0"
      },
      "outputs": [],
      "source": [
        "df['BUS_ROUTE_ID'] = df['BUS_ROUTE_ID'].astype('str')\n",
        "df['BUS_VH_ID'] = df['BUS_VH_ID'].astype('str')"
      ]
    },
    {
      "cell_type": "code",
      "execution_count": null,
      "id": "bf0d45ae",
      "metadata": {
        "id": "bf0d45ae"
      },
      "outputs": [],
      "source": [
        "for i in range(len(df)):\n",
        "    if df.loc[i, 'BUS_ROUTE_ID'] != 'nan':\n",
        "        df.loc[i, 'BUS_ROUTE_ID'] = df.loc[i, 'BUS_ROUTE_ID'][:-2]\n",
        "    if df.loc[i, 'BUS_VH_ID'] != 'nan':\n",
        "        df.loc[i, 'BUS_VH_ID'] = df.loc[i, 'BUS_VH_ID'][:-2]"
      ]
    },
    {
      "cell_type": "code",
      "execution_count": null,
      "id": "36831983",
      "metadata": {
        "id": "36831983",
        "outputId": "fae6f2d6-123a-4f41-c8be-4b7caa028871"
      },
      "outputs": [
        {
          "name": "stderr",
          "output_type": "stream",
          "text": [
            "100%|██████████| 47777/47777 [2:10:13<00:00,  6.11it/s]   \n"
          ]
        }
      ],
      "source": [
        "df30 = []\n",
        "all_index=pd.date_range(df.COLLECTION_DATE[0], freq='S', periods=47777)\n",
        "for i in tqdm(range(47777)):\n",
        "    df1 = df.copy()\n",
        "    df1.reset_index()\n",
        "    for j in range(len(df1)):\n",
        "        new = random.choice(np.arange(start=(df.SPEED[j] - 20.0), stop=(df.SPEED[j] + 20.0), step=0.5))\n",
        "        df1.loc[j, 'SPEED'] = new if new >= 0.0 else 0.0\n",
        "    df1['COLLECTION_DATE'] = all_index[i]\n",
        "    df1['UPDATE_DATE'] = df1['COLLECTION_DATE'] + pd.Timedelta('3second')\n",
        "    df30.append(df1)\n",
        "df_org = pd.concat(df30, axis=0)"
      ]
    },
    {
      "cell_type": "code",
      "execution_count": null,
      "id": "716b1733",
      "metadata": {
        "id": "716b1733"
      },
      "outputs": [],
      "source": [
        "df_org.to_csv('fake_snapshot_48.csv', header=True, index=False, encoding='UTF-8')"
      ]
    },
    {
      "cell_type": "code",
      "execution_count": null,
      "id": "c12b3e64",
      "metadata": {
        "id": "c12b3e64"
      },
      "outputs": [],
      "source": [
        "df_org"
      ]
    },
    {
      "cell_type": "code",
      "execution_count": null,
      "id": "69ef3664",
      "metadata": {
        "id": "69ef3664",
        "outputId": "d1737d09-f586-42aa-a4c8-25257bd6e8c9"
      },
      "outputs": [
        {
          "name": "stderr",
          "output_type": "stream",
          "text": [
            "                                                                                \r"
          ]
        }
      ],
      "source": [
        "test_df = spark.read.option(\"header\", \"true\").option(\"inferSchema\", \"true\").option(\"sep\", ',').option(\"quote\", '\"').option(\"wholeFile\", \"true\").option(\"multiline\", \"true\").csv('fake_snapshot.csv')"
      ]
    },
    {
      "cell_type": "code",
      "execution_count": null,
      "id": "78e95390",
      "metadata": {
        "id": "78e95390",
        "outputId": "7f72b98b-75e0-4ece-f68e-9dc88e556426"
      },
      "outputs": [
        {
          "name": "stdout",
          "output_type": "stream",
          "text": [
            "+-------------------+-----------------+------+-------------------+----------------+--------------------+--------------------+-------------+----------------------+-------------------+---------------------+----------+--------+--------+---------------------+-----------------+----+-------------------+--------------------+----------------+-------+------------------------+------------------+-------------------------+------------------+------------------+-------+------------------+------+--------------------+--------------------+--------------------+--------------------+--------------------+--------------------+------------+----------------+------------+------------+---------+-----------+-----------+\n",
            "|        UPDATE_DATE|       DEVICE_KEY|MDT_ID|    COLLECTION_DATE|COLLECTION_STATE|                NMEA|                ADAS|ADAS_DISTANCE|ADAS_FORWARD_COLLISION|ADAS_LANE_DEPARTURE|ADAS_PERSON_DETECTION|ADAS_SPEED|ADAS_RPM|ADAS_AEB|ADAS_LAST_UPDATE_DATE|ADAS_INSTALL_DATE| DSM|DSM_DROWSINESS_CODE|DSM_LAST_UPDATE_DATE|DSM_INSTALL_DATE|BAND_HB|BAND_HB_LAST_UPDATE_DATE|          BAND_ACC|BAND_ACC_LAST_UPDATE_DATE|          LATITUDE|         LONGITUDE| HEIGHT|             SPEED| ANGLE|       GNSS_NMEA_GGA|       GNSS_NMEA_RMC|       GNSS_NMEA_GSA|       GNSS_NMEA_GST|       GNSS_NMEA_VTG|       GNSS_NMEA_ZDA|      BUS_NO|     BUS_COMPANY|BUS_ROUTE_NO|BUS_ROUTE_ID|BUS_VH_ID|DOOR_JAMMED|CO2_DENSITY|\n",
            "+-------------------+-----------------+------+-------------------+----------------+--------------------+--------------------+-------------+----------------------+-------------------+---------------------+----------+--------+--------+---------------------+-----------------+----+-------------------+--------------------+----------------+-------+------------------------+------------------+-------------------------+------------------+------------------+-------+------------------+------+--------------------+--------------------+--------------------+--------------------+--------------------+--------------------+------------+----------------+------------+------------+---------+-----------+-----------+\n",
            "|2021-10-26 19:04:03|00-1E-06-20-52-1D|  null|2021-10-26 19:04:00|            FAIL|                null|                null|          0.0|                  null|               null|                 null|       0.0|     0.0|    null|                 null|             null|null|               null|                null|            null|   null|                    null|              null|                     null|               0.0|               0.0|    0.0|               0.0|   0.0|                null|                null|                null|                null|                null|                null|        null|            null|        null|        null|     null|          0|       50.0|\n",
            "|2021-10-26 19:04:03|00-A0-C6-00-0F-4F|   592|2021-10-26 19:04:00|         SUCCESS|$GNRMC,014547.00,...|                null|          0.0|                  null|               null|                 null|       0.0|     0.0|    null|                 null|             null|null|               null|                null|            null|    0.0|     2021-08-01 18:13:02| -14465;-859;-7887|      2021-08-01 18:13:02|33.489969697064616| 126.4905991994544| 89.982| 9.045000000000002|   0.0|$GNGGA,014547.00,...|$GNRMC,014547.00,...|$GNGSA,A,3,02,08,...|$GNGST,014547.00,...|$GNVTG,,T,,M,0.02...|$GNZDA,014547.00,...|제주79아3099|        금남여객|       332-2|4.05133202E8|7983099.0|          0|       50.0|\n",
            "|2021-10-26 19:04:03|00-A0-C6-00-48-39|   545|2021-10-26 19:04:00|         SUCCESS|$GNRMC,014547.00,...|ST,20210913094511...|          0.0|                 FCWS2|              LDWS0|                PDWS0|      30.0|  1332.0|        |  2021-09-13 10:45:09|             null|null|               null|                null|            null|    0.0|     2021-05-02 17:30:15|  -14589;1358;7242|      2021-05-02 17:30:15| 33.35931718388046|126.33521803968677|371.772|            40.299|237.57|$GNGGA,014547.00,...|$GNRMC,014547.00,...|$GNGSA,A,3,05,02,...|                null|$GNVTG,237.57,T,,...|$GNZDA,014547.00,...|제주79자6035|      제주시공영|      783-12|4.05578312E8|7996035.0|          0|       50.0|\n",
            "|2021-10-26 19:04:03|00-A0-C6-00-8A-FD|   759|2021-10-26 19:04:00|         SUCCESS|$GNRMC,014547.00,...|                null|          0.0|                  null|               null|                 null|       0.0|     0.0|    null|                 null|             null|null|               null|                null|            null|   null|                    null|              null|                     null|33.260374784239595|126.61758861905771| 35.728|               0.0|   0.0|$GNGGA,014547.00,...|$GNRMC,014547.00,...|$GNGSA,A,3,13,22,...|$GNGST,014547.00,...|$GNVTG,,T,,M,0.00...|$GNZDA,014547.00,...|제주79자7541|        동서교통|       624-4|4.06262404E8|7997541.0|          0|       50.0|\n",
            "|2021-10-26 19:04:03|00-A0-C6-00-B0-0F|   642|2021-10-26 19:04:00|            FAIL|                null|                null|          0.0|                  null|               null|                 null|       0.0|     0.0|    null|                 null|             null|null|               null|                null|            null|    0.0|     2021-08-22 21:50:01|    8498;9838;9447|      2021-08-22 21:50:01|               0.0|               0.0|    0.0|               0.0|   0.0|                null|                null|                null|                null|                null|                null|제주79아3423|        동진여객|       472-2|4.05247202E8|7983423.0|          0|       50.0|\n",
            "|2021-10-26 19:04:03|00-A0-C6-00-B9-16|   221|2021-10-26 19:04:00|         SUCCESS|$GNRMC,014547.00,...|                null|          0.0|                  null|               null|                 null|       0.0|     0.0|    null|                 null|             null|null|               null|                null|            null|    0.0|     2021-09-01 07:21:02|-12888;-2242;10451|      2021-09-01 07:21:02|33.493188503986914|126.53833199157702|  92.56|            49.062| 50.03|$GNGGA,014547.00,...|$GNRMC,014547.00,...|$GNGSA,A,3,29,13,...|$GNGST,014547.00,...|$GNVTG,50.03,T,,M...|$GNZDA,014547.00,...|제주79아3617|        삼화여객|       282-6|4.05328206E8|7983617.0|          0|       50.0|\n",
            "|2021-10-26 19:04:03|00-A0-C6-00-CF-60|   550|2021-10-26 19:04:00|            FAIL|                null|                null|          0.0|                  null|               null|                 null|       0.0|     0.0|    null|                 null|             null| 1.0|               DSM1| 2021-02-27 19:11:57|            null|   null|                    null|              null|                     null|               0.0|               0.0|    0.0|              10.0|   0.0|                null|                null|                null|                null|                null|                null|제주79자6040|      제주시공영|       704-2|4.05570402E8|7996040.0|          0|       50.0|\n",
            "|2021-10-26 19:04:03|00-A0-C6-00-E6-52|    74|2021-10-26 19:04:00|            FAIL|                null|                null|          0.0|                  null|               null|                 null|       0.0|     0.0|    null|                 null|             null|null|               null|                null|            null|    0.0|     2021-04-15 08:45:04|  12672;3809;-9048|      2021-04-15 08:45:04|               0.0|               0.0|    0.0|               3.5|   0.0|                null|                null|                null|                null|                null|                null|제주79아3114|        제주여객|       102-3|4.05410203E8|7983114.0|          0|       50.0|\n",
            "|2021-10-26 19:04:03|00-A0-C6-01-06-92|   684|2021-10-26 19:04:00|         SUCCESS|$GNRMC,014547.00,...|                null|          0.0|                  null|               null|                 null|       0.0|     0.0|    null|                 null|             null| 1.0|               DSM1| 2021-05-07 11:24:34|            null|    0.0|     2021-09-10 15:11:17|   15928;-4454;604|      2021-09-10 15:11:17| 33.42705478615529|126.41000935496672|339.302|            42.438|223.14|$GNGGA,014547.00,...|$GNRMC,014547.00,...|$GNGSA,A,3,03,07,...|$GNGST,014547.00,...|$GNVTG,223.14,T,,...|$GNZDA,014547.00,...|제주79아3564|        극동여객|       251-7|4.05325107E8|7983564.0|          0|       50.0|\n",
            "|2021-10-26 19:04:03|00-A0-C6-01-6E-5E|   311|2021-10-26 19:04:00|         SUCCESS|$GNRMC,014547.00,...|                null|          0.0|                  null|               null|                 null|       0.0|     0.0|    null|                 null|             null| 2.0|               DSM2| 2021-07-01 08:10:33|            null|    0.0|     2021-09-10 17:25:23| 3185;-10848;12253|      2021-09-10 17:25:23|33.248858959838195|126.21975203095536| 17.986|33.611999999999995| 34.07|$GNGGA,014547.00,...|$GNRMC,014547.00,...|$GNGSA,A,3,10,08,...|$GNGST,014547.00,...|$GNVTG,34.07,T,,M...|$GNZDA,014547.00,...|제주79자6608|      서귀포공영|       761-4|4.06576104E8|7996608.0|          0|       50.0|\n",
            "|2021-10-26 19:04:03|00-A0-C6-01-7D-02|  null|2021-10-26 19:04:00|            FAIL|                null|                null|          0.0|                  null|               null|                 null|       0.0|     0.0|    null|                 null|             null|null|               null|                null|            null|   84.0|     2020-09-30 12:47:51|  3786;-9919;13104|      2020-09-30 12:47:51|               0.0|               0.0|    0.0|               0.0|   0.0|                null|                null|                null|                null|                null|                null|제주79아3944|우도사랑협동조합|          44|        null|     null|          0|       50.0|\n",
            "|2021-10-26 19:04:03|00-A0-C6-01-BA-85|  null|2021-10-26 19:04:00|            FAIL|                null|                null|          0.0|                  null|               null|                 null|       0.0|     0.0|    null|                 null|             null|null|               null|                null|            null|   null|                    null|              null|                     null|               0.0|               0.0|    0.0|               4.5|   0.0|                null|                null|                null|                null|                null|                null|제주79아3941|우도사랑협동조합|          41|        null|     null|          0|       50.0|\n",
            "|2021-10-26 19:04:03|00-A0-C6-01-C9-42|   155|2021-10-26 19:04:00|         SUCCESS|$GNRMC,014547.00,...|                null|          0.0|                  null|               null|                 null|       0.0|     0.0|    null|                 null|             null| 3.0|               DSM3| 2021-08-26 23:00:30|            null|    0.0|     2021-09-10 23:07:17|    16207;-339;409|      2021-09-10 23:07:17|33.279628339274375|126.29399940754074|111.144|            11.393| 80.54|$GNGGA,014547.00,...|$GNRMC,014547.00,...|$GNGSA,A,3,01,04,...|$GNGST,014547.00,...|$GNVTG,80.54,T,,M...|$GNZDA,014547.00,...|제주79아3500|        극동여객|       252-4|4.05325204E8|7983500.0|          0|       50.0|\n",
            "|2021-10-26 19:04:03|00-A0-C6-01-D6-1D|    22|2021-10-26 19:04:00|         SUCCESS|$GNRMC,014547.00,...|                null|          0.0|                  null|               null|                 null|       0.0|     0.0|    null|                 null|             null|null|               null|                null|            null|  116.0|     2021-08-05 07:12:01|   16682;-77;-7191|      2021-08-05 07:12:01| 33.25182414729353|126.56018159372256| 67.447|            15.126| 42.83|$GNGGA,014547.00,...|$GNRMC,014547.00,...|$GNGSA,A,3,20,29,...|$GNGST,014547.00,...|$GNVTG,42.83,T,,M...|$GNZDA,014547.00,...|제주79아3025|        금남여객|       651-6|4.06265106E8|7983025.0|          0|       50.0|\n",
            "|2021-10-26 19:04:03|00-A0-C6-02-19-55|   613|2021-10-26 19:04:00|            FAIL|                null|                null|          0.0|                  null|               null|                 null|       0.0|     0.0|    null|                 null|             null|null|               null|                null|            null|    0.0|     2021-07-28 14:37:53|  12729;7769;-8568|      2021-07-28 14:37:53|               0.0|               0.0|    0.0|               0.0|   0.0|                null|                null|                null|                null|                null|                null|제주79아3220|        금남여객|       655-1|4.06265501E8|7983220.0|          0|       50.0|\n",
            "|2021-10-26 19:04:03|00-A0-C6-02-D8-6D|   466|2021-10-26 19:04:00|            FAIL|                null|                null|          0.0|                  null|               null|                 null|       0.0|     0.0|    null|                 null|             null|null|               null|                null|            null|    0.0|     2021-06-25 09:52:41|   639;-8456;13266|      2021-06-25 09:52:41|               0.0|               0.0|    0.0|              11.5|   0.0|                null|                null|                null|                null|                null|                null|제주79아3653|        삼화여객|       462-1|4.05246201E8|7983653.0|          0|       50.0|\n",
            "|2021-10-26 19:04:03|00-A0-C6-02-D9-06|   738|2021-10-26 19:04:00|            FAIL|                null|                null|          0.0|                  null|               null|                 null|       0.0|     0.0|    null|                 null|             null|null|               null|                null|            null|    0.0|     2021-08-03 13:46:09| -7743;6518;-13645|      2021-08-03 13:46:09|               0.0|               0.0|    0.0|               0.0|   0.0|                null|                null|                null|                null|                null|                null|제주79아3809|        삼화여객|       444-1|4.05244401E8|7983809.0|          0|       50.0|\n",
            "|2021-10-26 19:04:03|00-A0-C6-03-23-8B|   698|2021-10-26 19:04:00|         SUCCESS|$GNRMC,014547.00,...|                null|          0.0|                  null|               null|                 null|       0.0|     0.0|    null|                 null|             null|null|               null|                null|            null|    0.0|     2021-08-19 22:05:54|   15353;5412;-113|      2021-08-19 22:05:54| 33.51321141344051|126.53153204441408| 27.999|            16.524|   0.0|$GNGGA,014547.00,...|$GNRMC,014547.00,...|$GNGSA,A,3,10,13,...|$GNGST,014547.00,...|$GNVTG,,T,,M,0.01...|$GNZDA,014547.00,...|제주79아3578|        극동여객|       412-1|4.05241201E8|7983578.0|          0|       50.0|\n",
            "|2021-10-26 19:04:03|00-A0-C6-03-A2-76|   269|2021-10-26 19:04:00|            FAIL|                null|                null|          0.0|                  null|               null|                 null|       0.0|     0.0|    null|                 null|             null| 1.0|               DSM1| 2021-08-06 21:53:29|            null|    0.0|     2021-09-05 16:59:42|-3347;-7436;-14373|      2021-09-05 16:59:42|               0.0|               0.0|    0.0|               0.0|   0.0|                null|                null|                null|                null|                null|                null|제주79아3717|        삼영교통|       600-1|4.05660001E8|7983717.0|          0|       50.0|\n",
            "|2021-10-26 19:04:03|00-A0-C6-04-3C-FC|   339|2021-10-26 19:04:00|            FAIL|                null|                null|          0.0|                  null|               null|                 null|       0.0|     0.0|    null|                 null|             null|null|               null|                null|            null|   80.0|     2021-06-07 06:27:27| -931;-8806;-11395|      2021-06-07 06:27:27|               0.0|               0.0|    0.0|               0.0|   0.0|                null|                null|                null|                null|                null|                null|제주79자7013|        삼영교통|       341-1|4.05134101E8|7997013.0|          0|       50.0|\n",
            "+-------------------+-----------------+------+-------------------+----------------+--------------------+--------------------+-------------+----------------------+-------------------+---------------------+----------+--------+--------+---------------------+-----------------+----+-------------------+--------------------+----------------+-------+------------------------+------------------+-------------------------+------------------+------------------+-------+------------------+------+--------------------+--------------------+--------------------+--------------------+--------------------+--------------------+------------+----------------+------------+------------+---------+-----------+-----------+\n",
            "only showing top 20 rows\n",
            "\n"
          ]
        }
      ],
      "source": [
        "test_df.show()"
      ]
    },
    {
      "cell_type": "code",
      "execution_count": null,
      "id": "ed30d97f",
      "metadata": {
        "id": "ed30d97f",
        "outputId": "c1e79c91-7538-4643-a09b-34199bdffb4a"
      },
      "outputs": [
        {
          "name": "stderr",
          "output_type": "stream",
          "text": [
            "                                                                                \r"
          ]
        }
      ],
      "source": [
        "test_df.coalesce(1).write.mode('append').option('encoding', 'UTF-8').option('charset', \"UTF-8\").parquet('')"
      ]
    },
    {
      "cell_type": "code",
      "execution_count": null,
      "id": "47f1097a",
      "metadata": {
        "id": "47f1097a",
        "outputId": "f48de820-3923-4a99-8ffd-6a70048b6525"
      },
      "outputs": [
        {
          "name": "stderr",
          "output_type": "stream",
          "text": [
            "                                                                                \r"
          ]
        }
      ],
      "source": [
        "test_df.write.mode('append').option('encoding', 'UTF-8').option('charset', \"UTF-8\").json('')"
      ]
    },
    {
      "cell_type": "code",
      "execution_count": null,
      "id": "e76118e0",
      "metadata": {
        "id": "e76118e0"
      },
      "outputs": [],
      "source": [
        "import json"
      ]
    },
    {
      "cell_type": "code",
      "execution_count": null,
      "id": "3a430e33",
      "metadata": {
        "id": "3a430e33",
        "outputId": "633afadb-72fc-4e14-9928-ff5d65e37df3"
      },
      "outputs": [
        {
          "data": {
            "text/plain": [
              "MapPartitionsRDD[66] at toJavaRDD at NativeMethodAccessorImpl.java:0"
            ]
          },
          "execution_count": 117,
          "metadata": {},
          "output_type": "execute_result"
        }
      ],
      "source": [
        "test_df.toJSON()"
      ]
    },
    {
      "cell_type": "code",
      "execution_count": null,
      "id": "5052596b",
      "metadata": {
        "id": "5052596b",
        "outputId": "3b08bbef-aed0-4471-e94f-c1b8ca96851a"
      },
      "outputs": [
        {
          "name": "stderr",
          "output_type": "stream",
          "text": [
            "                                                                                \r"
          ]
        }
      ],
      "source": [
        "fakeRdd = spark.sparkContext.textFile(\"\")\n",
        "test_df = spark.read.option(\"header\",\"true\").format(\"json\").json(fakeRdd)"
      ]
    },
    {
      "cell_type": "code",
      "execution_count": null,
      "id": "2a4d99d8",
      "metadata": {
        "id": "2a4d99d8",
        "outputId": "f274a9fb-c20e-4524-dc9e-fdf9c752d161"
      },
      "outputs": [
        {
          "name": "stderr",
          "output_type": "stream",
          "text": [
            "[Stage 6:>                                                          (0 + 1) / 1]\r"
          ]
        },
        {
          "name": "stdout",
          "output_type": "stream",
          "text": [
            "+--------------------+--------+-------------+----------------------+-------------------+---------------------+---------------------+--------+----------+------+------------------+-------------------------+-------+------------------------+----------------+------------+------------+------------+---------+-----------+-------------------+----------------+-----------------+-----------+----+-------------------+--------------------+--------------------+--------------------+--------------------+--------------------+--------------------+--------------------+-------+------------------+------------------+------+--------------------+------------------+-------------------+\n",
            "|                ADAS|ADAS_AEB|ADAS_DISTANCE|ADAS_FORWARD_COLLISION|ADAS_LANE_DEPARTURE|ADAS_LAST_UPDATE_DATE|ADAS_PERSON_DETECTION|ADAS_RPM|ADAS_SPEED| ANGLE|          BAND_ACC|BAND_ACC_LAST_UPDATE_DATE|BAND_HB|BAND_HB_LAST_UPDATE_DATE|     BUS_COMPANY|      BUS_NO|BUS_ROUTE_ID|BUS_ROUTE_NO|BUS_VH_ID|CO2_DENSITY|    COLLECTION_DATE|COLLECTION_STATE|       DEVICE_KEY|DOOR_JAMMED| DSM|DSM_DROWSINESS_CODE|DSM_LAST_UPDATE_DATE|       GNSS_NMEA_GGA|       GNSS_NMEA_GSA|       GNSS_NMEA_GST|       GNSS_NMEA_RMC|       GNSS_NMEA_VTG|       GNSS_NMEA_ZDA| HEIGHT|          LATITUDE|         LONGITUDE|MDT_ID|                NMEA|             SPEED|        UPDATE_DATE|\n",
            "+--------------------+--------+-------------+----------------------+-------------------+---------------------+---------------------+--------+----------+------+------------------+-------------------------+-------+------------------------+----------------+------------+------------+------------+---------+-----------+-------------------+----------------+-----------------+-----------+----+-------------------+--------------------+--------------------+--------------------+--------------------+--------------------+--------------------+--------------------+-------+------------------+------------------+------+--------------------+------------------+-------------------+\n",
            "|                null|    null|          0.0|                  null|               null|                 null|                 null|     0.0|       0.0|   0.0|              null|                     null|   null|                    null|            null|        null|        null|        null|     null|       50.0|2021-10-26 19:04:00|            FAIL|00-1E-06-20-52-1D|          0|null|               null|                null|                null|                null|                null|                null|                null|                null|    0.0|               0.0|               0.0|  null|                null|               0.0|2021-10-26 19:04:03|\n",
            "|                null|    null|          0.0|                  null|               null|                 null|                 null|     0.0|       0.0|   0.0| -14465;-859;-7887|      2021-08-01 18:13:02|    0.0|     2021-08-01 18:13:02|        금남여객|제주79아3099|4.05133202E8|       332-2|7983099.0|       50.0|2021-10-26 19:04:00|         SUCCESS|00-A0-C6-00-0F-4F|          0|null|               null|                null|$GNGGA,014547.00,...|$GNGSA,A,3,02,08,...|$GNGST,014547.00,...|$GNRMC,014547.00,...|$GNVTG,,T,,M,0.02...|$GNZDA,014547.00,...| 89.982|33.489969697064616| 126.4905991994544|   592|$GNRMC,014547.00,...| 9.045000000000002|2021-10-26 19:04:03|\n",
            "|ST,20210913094511...|        |          0.0|                 FCWS2|              LDWS0|  2021-09-13 10:45:09|                PDWS0|  1332.0|      30.0|237.57|  -14589;1358;7242|      2021-05-02 17:30:15|    0.0|     2021-05-02 17:30:15|      제주시공영|제주79자6035|4.05578312E8|      783-12|7996035.0|       50.0|2021-10-26 19:04:00|         SUCCESS|00-A0-C6-00-48-39|          0|null|               null|                null|$GNGGA,014547.00,...|$GNGSA,A,3,05,02,...|                null|$GNRMC,014547.00,...|$GNVTG,237.57,T,,...|$GNZDA,014547.00,...|371.772| 33.35931718388046|126.33521803968677|   545|$GNRMC,014547.00,...|            40.299|2021-10-26 19:04:03|\n",
            "|                null|    null|          0.0|                  null|               null|                 null|                 null|     0.0|       0.0|   0.0|              null|                     null|   null|                    null|        동서교통|제주79자7541|4.06262404E8|       624-4|7997541.0|       50.0|2021-10-26 19:04:00|         SUCCESS|00-A0-C6-00-8A-FD|          0|null|               null|                null|$GNGGA,014547.00,...|$GNGSA,A,3,13,22,...|$GNGST,014547.00,...|$GNRMC,014547.00,...|$GNVTG,,T,,M,0.00...|$GNZDA,014547.00,...| 35.728|33.260374784239595|126.61758861905771|   759|$GNRMC,014547.00,...|               0.0|2021-10-26 19:04:03|\n",
            "|                null|    null|          0.0|                  null|               null|                 null|                 null|     0.0|       0.0|   0.0|    8498;9838;9447|      2021-08-22 21:50:01|    0.0|     2021-08-22 21:50:01|        동진여객|제주79아3423|4.05247202E8|       472-2|7983423.0|       50.0|2021-10-26 19:04:00|            FAIL|00-A0-C6-00-B0-0F|          0|null|               null|                null|                null|                null|                null|                null|                null|                null|    0.0|               0.0|               0.0|   642|                null|               0.0|2021-10-26 19:04:03|\n",
            "|                null|    null|          0.0|                  null|               null|                 null|                 null|     0.0|       0.0| 50.03|-12888;-2242;10451|      2021-09-01 07:21:02|    0.0|     2021-09-01 07:21:02|        삼화여객|제주79아3617|4.05328206E8|       282-6|7983617.0|       50.0|2021-10-26 19:04:00|         SUCCESS|00-A0-C6-00-B9-16|          0|null|               null|                null|$GNGGA,014547.00,...|$GNGSA,A,3,29,13,...|$GNGST,014547.00,...|$GNRMC,014547.00,...|$GNVTG,50.03,T,,M...|$GNZDA,014547.00,...|  92.56|33.493188503986914|126.53833199157702|   221|$GNRMC,014547.00,...|            49.062|2021-10-26 19:04:03|\n",
            "|                null|    null|          0.0|                  null|               null|                 null|                 null|     0.0|       0.0|   0.0|              null|                     null|   null|                    null|      제주시공영|제주79자6040|4.05570402E8|       704-2|7996040.0|       50.0|2021-10-26 19:04:00|            FAIL|00-A0-C6-00-CF-60|          0| 1.0|               DSM1| 2021-02-27 19:11:57|                null|                null|                null|                null|                null|                null|    0.0|               0.0|               0.0|   550|                null|              10.0|2021-10-26 19:04:03|\n",
            "|                null|    null|          0.0|                  null|               null|                 null|                 null|     0.0|       0.0|   0.0|  12672;3809;-9048|      2021-04-15 08:45:04|    0.0|     2021-04-15 08:45:04|        제주여객|제주79아3114|4.05410203E8|       102-3|7983114.0|       50.0|2021-10-26 19:04:00|            FAIL|00-A0-C6-00-E6-52|          0|null|               null|                null|                null|                null|                null|                null|                null|                null|    0.0|               0.0|               0.0|    74|                null|               3.5|2021-10-26 19:04:03|\n",
            "|                null|    null|          0.0|                  null|               null|                 null|                 null|     0.0|       0.0|223.14|   15928;-4454;604|      2021-09-10 15:11:17|    0.0|     2021-09-10 15:11:17|        극동여객|제주79아3564|4.05325107E8|       251-7|7983564.0|       50.0|2021-10-26 19:04:00|         SUCCESS|00-A0-C6-01-06-92|          0| 1.0|               DSM1| 2021-05-07 11:24:34|$GNGGA,014547.00,...|$GNGSA,A,3,03,07,...|$GNGST,014547.00,...|$GNRMC,014547.00,...|$GNVTG,223.14,T,,...|$GNZDA,014547.00,...|339.302| 33.42705478615529|126.41000935496672|   684|$GNRMC,014547.00,...|            42.438|2021-10-26 19:04:03|\n",
            "|                null|    null|          0.0|                  null|               null|                 null|                 null|     0.0|       0.0| 34.07| 3185;-10848;12253|      2021-09-10 17:25:23|    0.0|     2021-09-10 17:25:23|      서귀포공영|제주79자6608|4.06576104E8|       761-4|7996608.0|       50.0|2021-10-26 19:04:00|         SUCCESS|00-A0-C6-01-6E-5E|          0| 2.0|               DSM2| 2021-07-01 08:10:33|$GNGGA,014547.00,...|$GNGSA,A,3,10,08,...|$GNGST,014547.00,...|$GNRMC,014547.00,...|$GNVTG,34.07,T,,M...|$GNZDA,014547.00,...| 17.986|33.248858959838195|126.21975203095536|   311|$GNRMC,014547.00,...|33.611999999999995|2021-10-26 19:04:03|\n",
            "|                null|    null|          0.0|                  null|               null|                 null|                 null|     0.0|       0.0|   0.0|  3786;-9919;13104|      2020-09-30 12:47:51|   84.0|     2020-09-30 12:47:51|우도사랑협동조합|제주79아3944|        null|          44|     null|       50.0|2021-10-26 19:04:00|            FAIL|00-A0-C6-01-7D-02|          0|null|               null|                null|                null|                null|                null|                null|                null|                null|    0.0|               0.0|               0.0|  null|                null|               0.0|2021-10-26 19:04:03|\n",
            "|                null|    null|          0.0|                  null|               null|                 null|                 null|     0.0|       0.0|   0.0|              null|                     null|   null|                    null|우도사랑협동조합|제주79아3941|        null|          41|     null|       50.0|2021-10-26 19:04:00|            FAIL|00-A0-C6-01-BA-85|          0|null|               null|                null|                null|                null|                null|                null|                null|                null|    0.0|               0.0|               0.0|  null|                null|               4.5|2021-10-26 19:04:03|\n",
            "|                null|    null|          0.0|                  null|               null|                 null|                 null|     0.0|       0.0| 80.54|    16207;-339;409|      2021-09-10 23:07:17|    0.0|     2021-09-10 23:07:17|        극동여객|제주79아3500|4.05325204E8|       252-4|7983500.0|       50.0|2021-10-26 19:04:00|         SUCCESS|00-A0-C6-01-C9-42|          0| 3.0|               DSM3| 2021-08-26 23:00:30|$GNGGA,014547.00,...|$GNGSA,A,3,01,04,...|$GNGST,014547.00,...|$GNRMC,014547.00,...|$GNVTG,80.54,T,,M...|$GNZDA,014547.00,...|111.144|33.279628339274375|126.29399940754074|   155|$GNRMC,014547.00,...|            11.393|2021-10-26 19:04:03|\n",
            "|                null|    null|          0.0|                  null|               null|                 null|                 null|     0.0|       0.0| 42.83|   16682;-77;-7191|      2021-08-05 07:12:01|  116.0|     2021-08-05 07:12:01|        금남여객|제주79아3025|4.06265106E8|       651-6|7983025.0|       50.0|2021-10-26 19:04:00|         SUCCESS|00-A0-C6-01-D6-1D|          0|null|               null|                null|$GNGGA,014547.00,...|$GNGSA,A,3,20,29,...|$GNGST,014547.00,...|$GNRMC,014547.00,...|$GNVTG,42.83,T,,M...|$GNZDA,014547.00,...| 67.447| 33.25182414729353|126.56018159372256|    22|$GNRMC,014547.00,...|            15.126|2021-10-26 19:04:03|\n",
            "|                null|    null|          0.0|                  null|               null|                 null|                 null|     0.0|       0.0|   0.0|  12729;7769;-8568|      2021-07-28 14:37:53|    0.0|     2021-07-28 14:37:53|        금남여객|제주79아3220|4.06265501E8|       655-1|7983220.0|       50.0|2021-10-26 19:04:00|            FAIL|00-A0-C6-02-19-55|          0|null|               null|                null|                null|                null|                null|                null|                null|                null|    0.0|               0.0|               0.0|   613|                null|               0.0|2021-10-26 19:04:03|\n",
            "|                null|    null|          0.0|                  null|               null|                 null|                 null|     0.0|       0.0|   0.0|   639;-8456;13266|      2021-06-25 09:52:41|    0.0|     2021-06-25 09:52:41|        삼화여객|제주79아3653|4.05246201E8|       462-1|7983653.0|       50.0|2021-10-26 19:04:00|            FAIL|00-A0-C6-02-D8-6D|          0|null|               null|                null|                null|                null|                null|                null|                null|                null|    0.0|               0.0|               0.0|   466|                null|              11.5|2021-10-26 19:04:03|\n",
            "|                null|    null|          0.0|                  null|               null|                 null|                 null|     0.0|       0.0|   0.0| -7743;6518;-13645|      2021-08-03 13:46:09|    0.0|     2021-08-03 13:46:09|        삼화여객|제주79아3809|4.05244401E8|       444-1|7983809.0|       50.0|2021-10-26 19:04:00|            FAIL|00-A0-C6-02-D9-06|          0|null|               null|                null|                null|                null|                null|                null|                null|                null|    0.0|               0.0|               0.0|   738|                null|               0.0|2021-10-26 19:04:03|\n",
            "|                null|    null|          0.0|                  null|               null|                 null|                 null|     0.0|       0.0|   0.0|   15353;5412;-113|      2021-08-19 22:05:54|    0.0|     2021-08-19 22:05:54|        극동여객|제주79아3578|4.05241201E8|       412-1|7983578.0|       50.0|2021-10-26 19:04:00|         SUCCESS|00-A0-C6-03-23-8B|          0|null|               null|                null|$GNGGA,014547.00,...|$GNGSA,A,3,10,13,...|$GNGST,014547.00,...|$GNRMC,014547.00,...|$GNVTG,,T,,M,0.01...|$GNZDA,014547.00,...| 27.999| 33.51321141344051|126.53153204441408|   698|$GNRMC,014547.00,...|            16.524|2021-10-26 19:04:03|\n",
            "|                null|    null|          0.0|                  null|               null|                 null|                 null|     0.0|       0.0|   0.0|-3347;-7436;-14373|      2021-09-05 16:59:42|    0.0|     2021-09-05 16:59:42|        삼영교통|제주79아3717|4.05660001E8|       600-1|7983717.0|       50.0|2021-10-26 19:04:00|            FAIL|00-A0-C6-03-A2-76|          0| 1.0|               DSM1| 2021-08-06 21:53:29|                null|                null|                null|                null|                null|                null|    0.0|               0.0|               0.0|   269|                null|               0.0|2021-10-26 19:04:03|\n",
            "|                null|    null|          0.0|                  null|               null|                 null|                 null|     0.0|       0.0|   0.0| -931;-8806;-11395|      2021-06-07 06:27:27|   80.0|     2021-06-07 06:27:27|        삼영교통|제주79자7013|4.05134101E8|       341-1|7997013.0|       50.0|2021-10-26 19:04:00|            FAIL|00-A0-C6-04-3C-FC|          0|null|               null|                null|                null|                null|                null|                null|                null|                null|    0.0|               0.0|               0.0|   339|                null|               0.0|2021-10-26 19:04:03|\n",
            "+--------------------+--------+-------------+----------------------+-------------------+---------------------+---------------------+--------+----------+------+------------------+-------------------------+-------+------------------------+----------------+------------+------------+------------+---------+-----------+-------------------+----------------+-----------------+-----------+----+-------------------+--------------------+--------------------+--------------------+--------------------+--------------------+--------------------+--------------------+-------+------------------+------------------+------+--------------------+------------------+-------------------+\n",
            "only showing top 20 rows\n",
            "\n"
          ]
        },
        {
          "name": "stderr",
          "output_type": "stream",
          "text": [
            "                                                                                \r"
          ]
        }
      ],
      "source": [
        "test_df.show()"
      ]
    },
    {
      "cell_type": "code",
      "execution_count": null,
      "id": "05a91813",
      "metadata": {
        "id": "05a91813"
      },
      "outputs": [],
      "source": [
        "test_df.write.json(path=\"\", mode=\"append\", header=True, sep=\",\", quote='\"', lineSep='\\n', escapeQuotes=True)"
      ]
    },
    {
      "cell_type": "code",
      "execution_count": null,
      "id": "3dd107bc",
      "metadata": {
        "scrolled": true,
        "id": "3dd107bc"
      },
      "outputs": [],
      "source": [
        "rddFromFile = spark.sparkContext.textFile(\"\")"
      ]
    },
    {
      "cell_type": "code",
      "execution_count": null,
      "id": "2cfa1453",
      "metadata": {
        "scrolled": true,
        "id": "2cfa1453",
        "outputId": "25011c58-fc03-4046-bb7a-eaddff53b01f"
      },
      "outputs": [
        {
          "name": "stderr",
          "output_type": "stream",
          "text": [
            "                                                                                \r"
          ]
        }
      ],
      "source": [
        "df = spark.read\\\n",
        "    .option(\"header\",\"true\")\\\n",
        "    .format(\"json\")\\\n",
        "    .json(rddFromFile)"
      ]
    },
    {
      "cell_type": "code",
      "execution_count": null,
      "id": "566696e6",
      "metadata": {
        "id": "566696e6"
      },
      "outputs": [],
      "source": [
        "df1 = spark.read.option(\"header\",\"true\").format(\"json\").json(rddFromFile)"
      ]
    },
    {
      "cell_type": "code",
      "execution_count": null,
      "id": "4b52811e",
      "metadata": {
        "id": "4b52811e"
      },
      "outputs": [],
      "source": [
        "def table_sort(table_name):\n",
        "    rddFromFile = spark.sparkContext.textFile(\"\")\n",
        "    df1 = spark.read.option(\"header\",\"true\").format(\"json\").json(rddFromFile)\n",
        "    df1 = df1.filter(df1.COLLECTION_STATE.contains('SUCCESS'))\n",
        "    values = table_dict[table_name]\n",
        "    for v in values:\n",
        "        if v is 'WORK_DATE':\n",
        "            df1 = df1.withColumn('WORK_DATE', F.lit(pd.to_datetime(str(datetime.datetime.now())[:19])))\n",
        "        elif v not in df.columns:\n",
        "            df1 = df1.withColumn(v,  F.lit(''))\n",
        "    \n",
        "    return df1.select(values)"
      ]
    },
    {
      "cell_type": "code",
      "execution_count": null,
      "id": "8466b990",
      "metadata": {
        "id": "8466b990",
        "outputId": "f1665905-6765-414d-8fb1-4b797dcccad2"
      },
      "outputs": [
        {
          "name": "stdout",
          "output_type": "stream",
          "text": [
            "+-----------------+------+------------+--------------------+------------------+------------------+------+-------+---------+-----------+\n",
            "|       DEVICE_KEY|MDT_ID|BUS_ROUTE_ID|     COLLECTION_DATE|          LATITUDE|         LONGITUDE| SPEED|MAX_SPD|BUS_VH_ID|DRIVE_COUNT|\n",
            "+-----------------+------+------------+--------------------+------------------+------------------+------+-------+---------+-----------+\n",
            "|00-A0-C6-00-0F-4F|   592|   405133202|2021-10-26 19:04:...|33.489969697064616|126.49059919945441| 0.045|       |  7983099|           |\n",
            "|00-A0-C6-00-48-39|   545|   405578312|2021-10-26 19:04:...| 33.35931718388046|126.33521803968677|52.799|       |  7996035|           |\n",
            "|00-A0-C6-00-8A-FD|   759|   406262404|2021-10-26 19:04:...|33.260374784239595|126.61758861905771| 0.016|       |  7997541|           |\n",
            "|00-A0-C6-00-B9-16|   221|   405328206|2021-10-26 19:04:...|33.493188503986914|126.53833199157702|30.562|       |  7983617|           |\n",
            "|00-A0-C6-01-06-92|   684|   405325107|2021-10-26 19:04:...| 33.42705478615529|126.41000935496672|40.938|       |  7983564|           |\n",
            "|00-A0-C6-01-6E-5E|   311|   406576104|2021-10-26 19:04:...|33.248858959838195|126.21975203095536|24.112|       |  7996608|           |\n",
            "|00-A0-C6-01-C9-42|   155|   405325204|2021-10-26 19:04:...|33.279628339274375|126.29399940754074|21.393|       |  7983500|           |\n",
            "|00-A0-C6-01-D6-1D|    22|   406265106|2021-10-26 19:04:...| 33.25182414729353|126.56018159372256|10.626|       |  7983025|           |\n",
            "|00-A0-C6-03-23-8B|   698|   405241201|2021-10-26 19:04:...| 33.51321141344051|126.53153204441409| 0.024|       |  7983578|           |\n",
            "|00-A0-C6-04-70-CD|   378|   405132002|2021-10-26 19:04:...| 33.48207121963179|126.48331883797542|30.507|       |  7997052|           |\n",
            "|00-A0-C6-05-B5-D3|     9|   405320111|2021-10-26 19:04:...|33.248700358792306|126.57003565784457| 27.69|       |  7983010|           |\n",
            "|00-A0-C6-06-E1-22|   646|   405247506|2021-10-26 19:04:...|  33.4595482023836|126.55964334326589|23.026|       |  7983451|           |\n",
            "|00-A0-C6-06-EA-AF|   627|   405322201|2021-10-26 19:04:...| 33.32490173031646|126.83959657932762|23.157|       |  7983174|           |\n",
            "|00-A0-C6-08-12-8C|   121|   405328101|2021-10-26 19:04:...| 33.39220036244183|126.61660184341596|49.412|       |  7983402|           |\n",
            "|00-A0-C6-08-79-FF|    48|   405321102|2021-10-26 19:04:...| 33.50064896298618|126.52892114812772| 0.075|       |  7983054|           |\n",
            "|00-A0-C6-08-CD-E6|   722|   405328201|2021-10-26 19:04:...| 33.49976227388812|126.51531365293518| 0.143|       |  7983693|           |\n",
            "|00-A0-C6-08-D8-7D|   184|   405415102|2021-10-26 19:04:...|  33.4939198842932|126.49674591640556| 1.854|       |  7983529|           |\n",
            "|00-A0-C6-09-6D-C9|   213|   405418201|2021-10-26 19:04:...|  33.3138671356239|126.59877481107489|60.739|       |  7983609|           |\n",
            "|00-A0-C6-0B-2A-6A|   217|   405241502|2021-10-26 19:04:...| 33.48804772656819|126.43093844030791| 0.027|       |  7983613|           |\n",
            "|00-A0-C6-0B-AA-5D|    34|   405326002|2021-10-26 19:04:...|33.507137851116404|126.54021314832515|22.457|       |  7983039|           |\n",
            "+-----------------+------+------------+--------------------+------------------+------------------+------+-------+---------+-----------+\n",
            "only showing top 20 rows\n",
            "\n"
          ]
        }
      ],
      "source": [
        "table_sort('TRACK_SPEED').show()"
      ]
    },
    {
      "cell_type": "code",
      "execution_count": null,
      "id": "6b470369",
      "metadata": {
        "id": "6b470369",
        "outputId": "380a3c0a-37c0-4bff-bbe2-31294de7aee4"
      },
      "outputs": [
        {
          "data": {
            "text/plain": [
              "36     70.239\n",
              "101    96.042\n",
              "117    82.442\n",
              "226    70.653\n",
              "263    81.080\n",
              "        ...  \n",
              "627    73.366\n",
              "652    76.007\n",
              "698    72.394\n",
              "858    98.853\n",
              "893    70.952\n",
              "Name: SPEED, Length: 4067, dtype: float64"
            ]
          },
          "execution_count": 229,
          "metadata": {},
          "output_type": "execute_result"
        }
      ],
      "source": [
        "#  df_org[where(col('SPEED') > 70.0)]\n",
        "df_org[df_org['SPEED'] > 70.0].SPEED"
      ]
    }
  ],
  "metadata": {
    "kernelspec": {
      "display_name": "Python 3",
      "language": "python",
      "name": "python3"
    },
    "language_info": {
      "codemirror_mode": {
        "name": "ipython",
        "version": 3
      },
      "file_extension": ".py",
      "mimetype": "text/x-python",
      "name": "python",
      "nbconvert_exporter": "python",
      "pygments_lexer": "ipython3",
      "version": "3.8.8"
    },
    "colab": {
      "name": "practice.ipynb의 사본",
      "provenance": []
    }
  },
  "nbformat": 4,
  "nbformat_minor": 5
}